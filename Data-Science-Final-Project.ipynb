{
  "metadata": {
    "kernelspec": {
      "name": "python",
      "display_name": "Python (Pyodide)",
      "language": "python"
    },
    "language_info": {
      "codemirror_mode": {
        "name": "python",
        "version": 3
      },
      "file_extension": ".py",
      "mimetype": "text/x-python",
      "name": "python",
      "nbconvert_exporter": "python",
      "pygments_lexer": "ipython3",
      "version": "3.8"
    }
  },
  "nbformat_minor": 4,
  "nbformat": 4,
  "cells": [
    {
      "cell_type": "markdown",
      "source": "# Data Science Final Project",
      "metadata": {}
    },
    {
      "cell_type": "markdown",
      "source": "## Introduction\nThis notebook is a final project for IBM's Data Science Tools for Data Science Certification",
      "metadata": {}
    },
    {
      "cell_type": "markdown",
      "source": "## Data Science Languages\n- Python\n- R\n- SQL\n- Julia\n- Java\n- Scala\n",
      "metadata": {}
    },
    {
      "cell_type": "markdown",
      "source": "## Data Science Libraries\n- Pandas\n- NumPy\n- Matplotlib\n- Seaborn\n- Scikit-learn\n- TensorFlow\n- Keras\n- PyTorch\n",
      "metadata": {}
    },
    {
      "cell_type": "markdown",
      "source": "## Data Science Tools\n| Tool          | Description                                    |\n|---------------|------------------------------------------------|\n| Jupyter       | Interactive computing environment              |\n| RStudio       | Integrated development environment for R       |\n| Apache Hadoop | Framework for distributed storage and processing|\n| Tableau       | Data visualization software                    |\n",
      "metadata": {}
    },
    {
      "cell_type": "markdown",
      "source": "## Arithmetic Expression Examples\nBelow are examples of simple arithmetic operations performed in Python.\n",
      "metadata": {}
    },
    {
      "cell_type": "code",
      "source": "# Example of multiplication and addition\na = 5\nb = 3\nresult = (a * b) + b\nresult\n",
      "metadata": {
        "trusted": true
      },
      "outputs": [],
      "execution_count": null
    },
    {
      "cell_type": "code",
      "source": "# Convert minutes to hours\nminutes = 150\nhours = minutes / 60\nhours\n",
      "metadata": {
        "trusted": true
      },
      "outputs": [
        {
          "execution_count": 5,
          "output_type": "execute_result",
          "data": {
            "text/plain": "2.5"
          },
          "metadata": {}
        }
      ],
      "execution_count": 5
    },
    {
      "cell_type": "markdown",
      "source": "## Objectives\n- Understand basic arithmetic operations in Python\n- Learn how to use markdown cells in Jupyter notebooks\n- Practice converting units in Python\n- Familiarize with common data science languages and libraries\n- Learn to use GitHub for sharing Jupyter notebooks\n",
      "metadata": {}
    },
    {
      "cell_type": "markdown",
      "source": "## Author\n[Alex W]\n",
      "metadata": {}
    },
    {
      "cell_type": "code",
      "source": "",
      "metadata": {
        "trusted": true
      },
      "outputs": [],
      "execution_count": null
    }
  ]
}